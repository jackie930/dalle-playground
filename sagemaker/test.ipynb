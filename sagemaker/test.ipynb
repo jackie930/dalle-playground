{
 "cells": [
  {
   "cell_type": "code",
   "execution_count": 13,
   "id": "6cf7aedd",
   "metadata": {},
   "outputs": [
    {
     "name": "stdout",
     "output_type": "stream",
     "text": [
      "/home/ec2-user/anaconda3/envs/pytorch_latest_p36/lib/python3.6/site-packages/boto3/compat.py:88: PythonDeprecationWarning: Boto3 will no longer support Python 3.6 starting May 30, 2022. To continue receiving service updates, bug fixes, and security updates please upgrade to Python 3.7 or later. More information can be found here: https://aws.amazon.com/blogs/developer/python-support-policy-updates-for-aws-sdks-and-tools/\n",
      "  warnings.warn(warning, PythonDeprecationWarning)\n",
      "model_name:  dalle-mini-v3\n",
      "endpoint_ecr_image_path:  726335585155.dkr.ecr.us-east-1.amazonaws.com/dalle\n",
      "<<< Completed model endpoint deployment. dalle-mini-v3\n"
     ]
    }
   ],
   "source": [
    "!python create_endpoint.py \\\n",
    "--endpoint_ecr_image_path \"726335585155.dkr.ecr.us-east-1.amazonaws.com/dalle\" \\\n",
    "--endpoint_name 'dalle-mini-v3' \\\n",
    "--instance_type \"ml.p3.2xlarge\""
   ]
  },
  {
   "cell_type": "code",
   "execution_count": 15,
   "id": "d6709296",
   "metadata": {},
   "outputs": [
    {
     "name": "stdout",
     "output_type": "stream",
     "text": [
      "{'result': 'success!'}\n",
      "CPU times: user 121 ms, sys: 7.39 ms, total: 128 ms\n",
      "Wall time: 2.12 s\n"
     ]
    }
   ],
   "source": [
    "%%time\n",
    "from boto3.session import Session\n",
    "import json\n",
    "data={\"data\": 'one bilnd person on the sky!',\n",
    "     \"bucket_name\":\"app-nlp-lab\"}\n",
    "session = Session()\n",
    "    \n",
    "runtime = session.client(\"runtime.sagemaker\")\n",
    "response = runtime.invoke_endpoint(\n",
    "    EndpointName='dalle-mini-v3',\n",
    "    ContentType=\"application/json\",\n",
    "    Body=json.dumps(data),\n",
    ")\n",
    "\n",
    "result = json.loads(response[\"Body\"].read())\n",
    "print (result)"
   ]
  },
  {
   "cell_type": "code",
   "execution_count": null,
   "id": "fffb82d2",
   "metadata": {},
   "outputs": [],
   "source": []
  }
 ],
 "metadata": {
  "kernelspec": {
   "display_name": "conda_pytorch_latest_p36",
   "language": "python",
   "name": "conda_pytorch_latest_p36"
  },
  "language_info": {
   "codemirror_mode": {
    "name": "ipython",
    "version": 3
   },
   "file_extension": ".py",
   "mimetype": "text/x-python",
   "name": "python",
   "nbconvert_exporter": "python",
   "pygments_lexer": "ipython3",
   "version": "3.6.13"
  }
 },
 "nbformat": 4,
 "nbformat_minor": 5
}
